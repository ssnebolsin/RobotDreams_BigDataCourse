{
 "cells": [
  {
   "cell_type": "code",
   "execution_count": 1,
   "metadata": {
    "execution": {
     "iopub.execute_input": "2025-07-23T08:26:20.696766Z",
     "iopub.status.busy": "2025-07-23T08:26:20.696467Z",
     "iopub.status.idle": "2025-07-23T08:26:44.287326Z",
     "shell.execute_reply": "2025-07-23T08:26:44.286718Z",
     "shell.execute_reply.started": "2025-07-23T08:26:20.696738Z"
    }
   },
   "outputs": [
    {
     "data": {
      "application/vnd.jupyter.widget-view+json": {
       "model_id": "ceaa586cee82400cb878c9c77c4a250c",
       "version_major": 2,
       "version_minor": 0
      },
      "text/plain": [
       "VBox()"
      ]
     },
     "metadata": {},
     "output_type": "display_data"
    },
    {
     "name": "stdout",
     "output_type": "stream",
     "text": [
      "Starting Spark application\n"
     ]
    },
    {
     "data": {
      "text/html": [
       "<table>\n<tbody><tr><th>ID</th><th>YARN Application ID</th><th>Kind</th><th>State</th><th>Spark UI</th><th>Driver log</th><th>User</th><th>Current session?</th></tr><tr><td>5</td><td>application_1753198312670_0006</td><td>pyspark</td><td>idle</td><td><a target=\"_blank\" href=\"http://ip-172-31-14-84.eu-north-1.compute.internal:20888/proxy/application_1753198312670_0006/\" class=\"emr-proxy-link j-29LKTYFOFPT2O application_1753198312670_0006\" emr-resource=\"j-29LKTYFOFPT2O\n\" application-id=\"application_1753198312670_0006\">Link</a></td><td><a target=\"_blank\" href=\"http://ip-172-31-11-159.eu-north-1.compute.internal:8042/node/containerlogs/container_1753198312670_0006_01_000001/livy\">Link</a></td><td>None</td><td>✔</td></tr></tbody></table>"
      ],
      "text/plain": [
       "<IPython.core.display.HTML object>"
      ]
     },
     "metadata": {},
     "output_type": "display_data"
    },
    {
     "data": {
      "application/vnd.jupyter.widget-view+json": {
       "model_id": "",
       "version_major": 2,
       "version_minor": 0
      },
      "text/plain": [
       "FloatProgress(value=0.0, bar_style='info', description='Progress:', layout=Layout(height='25px', width='50%'),…"
      ]
     },
     "metadata": {},
     "output_type": "display_data"
    },
    {
     "name": "stdout",
     "output_type": "stream",
     "text": [
      "SparkSession available as 'spark'.\n"
     ]
    },
    {
     "data": {
      "application/vnd.jupyter.widget-view+json": {
       "model_id": "",
       "version_major": 2,
       "version_minor": 0
      },
      "text/plain": [
       "FloatProgress(value=0.0, bar_style='info', description='Progress:', layout=Layout(height='25px', width='50%'),…"
      ]
     },
     "metadata": {},
     "output_type": "display_data"
    }
   ],
   "source": [
    "from pyspark.sql.functions import col, sum, avg, count, max, min, broadcast, unix_timestamp, hour, dayofweek, format_string, when, dayofweek\n",
    "from pyspark.sql import SparkSession\n",
    "import pyspark.sql.functions as f\n",
    "from pyspark.sql.functions import lit\n",
    "from datetime import date"
   ]
  },
  {
   "cell_type": "code",
   "execution_count": 2,
   "metadata": {
    "execution": {
     "iopub.execute_input": "2025-07-23T08:26:44.288418Z",
     "iopub.status.busy": "2025-07-23T08:26:44.288256Z",
     "iopub.status.idle": "2025-07-23T08:26:44.330533Z",
     "shell.execute_reply": "2025-07-23T08:26:44.329822Z",
     "shell.execute_reply.started": "2025-07-23T08:26:44.288396Z"
    }
   },
   "outputs": [
    {
     "data": {
      "application/vnd.jupyter.widget-view+json": {
       "model_id": "b78c9f50965f49c48ae96352a52a4919",
       "version_major": 2,
       "version_minor": 0
      },
      "text/plain": [
       "VBox()"
      ]
     },
     "metadata": {},
     "output_type": "display_data"
    },
    {
     "data": {
      "application/vnd.jupyter.widget-view+json": {
       "model_id": "",
       "version_major": 2,
       "version_minor": 0
      },
      "text/plain": [
       "FloatProgress(value=0.0, bar_style='info', description='Progress:', layout=Layout(height='25px', width='50%'),…"
      ]
     },
     "metadata": {},
     "output_type": "display_data"
    }
   ],
   "source": [
    "spark = SparkSession.builder.appName(\"homework3_sn\").getOrCreate()"
   ]
  },
  {
   "cell_type": "code",
   "execution_count": 3,
   "metadata": {
    "execution": {
     "iopub.execute_input": "2025-07-23T08:26:45.823419Z",
     "iopub.status.busy": "2025-07-23T08:26:45.823199Z",
     "iopub.status.idle": "2025-07-23T08:26:45.867983Z",
     "shell.execute_reply": "2025-07-23T08:26:45.867218Z",
     "shell.execute_reply.started": "2025-07-23T08:26:45.823394Z"
    }
   },
   "outputs": [
    {
     "data": {
      "application/vnd.jupyter.widget-view+json": {
       "model_id": "2dbbd6d51be148de8a23d5822c35e12d",
       "version_major": 2,
       "version_minor": 0
      },
      "text/plain": [
       "VBox()"
      ]
     },
     "metadata": {},
     "output_type": "display_data"
    },
    {
     "data": {
      "application/vnd.jupyter.widget-view+json": {
       "model_id": "",
       "version_major": 2,
       "version_minor": 0
      },
      "text/plain": [
       "FloatProgress(value=0.0, bar_style='info', description='Progress:', layout=Layout(height='25px', width='50%'),…"
      ]
     },
     "metadata": {},
     "output_type": "display_data"
    }
   ],
   "source": [
    "S3_BUCKET_NAME = \"robot-dreams-source-data\"\n",
    "TAXI_ZONE_LOOKUP_PATH = f\"s3a://{S3_BUCKET_NAME}/home-work-1/nyc_taxi/taxi_zone_lookup.csv\""
   ]
  },
  {
   "cell_type": "markdown",
   "metadata": {},
   "source": [
    "#### 2: Імпорт, уніфікація та об’єднання"
   ]
  },
  {
   "cell_type": "markdown",
   "metadata": {},
   "source": [
    "#### Prepare Green taxi file"
   ]
  },
  {
   "cell_type": "code",
   "execution_count": 4,
   "metadata": {
    "execution": {
     "iopub.execute_input": "2025-07-23T08:26:48.767384Z",
     "iopub.status.busy": "2025-07-23T08:26:48.767150Z",
     "iopub.status.idle": "2025-07-23T08:27:28.308301Z",
     "shell.execute_reply": "2025-07-23T08:27:28.307577Z",
     "shell.execute_reply.started": "2025-07-23T08:26:48.767346Z"
    }
   },
   "outputs": [
    {
     "data": {
      "application/vnd.jupyter.widget-view+json": {
       "model_id": "cdd4055a270241afa2a89d026cf96bf7",
       "version_major": 2,
       "version_minor": 0
      },
      "text/plain": [
       "VBox()"
      ]
     },
     "metadata": {},
     "output_type": "display_data"
    },
    {
     "data": {
      "application/vnd.jupyter.widget-view+json": {
       "model_id": "",
       "version_major": 2,
       "version_minor": 0
      },
      "text/plain": [
       "FloatProgress(value=0.0, bar_style='info', description='Progress:', layout=Layout(height='25px', width='50%'),…"
      ]
     },
     "metadata": {},
     "output_type": "display_data"
    },
    {
     "name": "stdout",
     "output_type": "stream",
     "text": [
      "Total rows count green taxi file: 61956492\n",
      "root\n",
      " |-- VendorID: long (nullable = true)\n",
      " |-- lpep_pickup_datetime: timestamp_ntz (nullable = true)\n",
      " |-- lpep_dropoff_datetime: timestamp_ntz (nullable = true)\n",
      " |-- store_and_fwd_flag: string (nullable = true)\n",
      " |-- RatecodeID: double (nullable = true)\n",
      " |-- PULocationID: long (nullable = true)\n",
      " |-- DOLocationID: long (nullable = true)\n",
      " |-- passenger_count: long (nullable = true)\n",
      " |-- trip_distance: double (nullable = true)\n",
      " |-- fare_amount: double (nullable = true)\n",
      " |-- extra: double (nullable = true)\n",
      " |-- mta_tax: double (nullable = true)\n",
      " |-- tip_amount: double (nullable = true)\n",
      " |-- tolls_amount: double (nullable = true)\n",
      " |-- ehail_fee: double (nullable = true)\n",
      " |-- improvement_surcharge: double (nullable = true)\n",
      " |-- total_amount: double (nullable = true)\n",
      " |-- payment_type: long (nullable = true)\n",
      " |-- trip_type: double (nullable = true)\n",
      " |-- congestion_surcharge: double (nullable = true)\n",
      " |-- taxi_type: string (nullable = false)"
     ]
    }
   ],
   "source": [
    "green_taxi_union_list = []\n",
    "\n",
    "# prepare list of columns to cast\n",
    "columns_to_cast = {\n",
    "    \"passenger_count\": \"bigint\",\n",
    "    \"payment_type\": \"bigint\",\n",
    "    \"improvement_surcharge\": \"double\",\n",
    "    \"congestion_surcharge\": \"double\",\n",
    "    \"PULocationID\": \"bigint\"\n",
    "}\n",
    "\n",
    "# loop over the files to cast each file and collect them into a list\n",
    "for folder in range(2014,2024):\n",
    "    for file in range(1,13):\n",
    "        if (folder != 2023 and file not in (10,11,12)):\n",
    "            GREEN_TAXI_PATH_FILE = f\"s3a://{S3_BUCKET_NAME}/home-work-1/nyc_taxi/green/{folder}/green_tripdata_{folder}-{str(file).zfill(2)}.parquet\"\n",
    "\n",
    "            df = spark.read.parquet(GREEN_TAXI_PATH_FILE)\n",
    "\n",
    "            for col_name, target_type in columns_to_cast.items():\n",
    "                df = df.withColumn(col_name, col(col_name).cast(target_type))\n",
    "\n",
    "            green_taxi_union_list.append(df)\n",
    "    \n",
    "# combine all dfs from the list    \n",
    "green_taxi_final = green_taxi_union_list[0]\n",
    "\n",
    "for df in green_taxi_union_list[1:]:\n",
    "    green_taxi_final = green_taxi_final.unionByName(df)\n",
    "\n",
    "# add taxi type\n",
    "green_taxi_final = green_taxi_final.withColumn(\"taxi_type\", lit(\"green\"))\n",
    "\n",
    "print(f\"Total rows count green taxi file: {green_taxi_final.count()}\")\n",
    "\n",
    "green_taxi_final.printSchema()"
   ]
  },
  {
   "cell_type": "markdown",
   "metadata": {},
   "source": [
    "#### Prepare Yellow taxi file"
   ]
  },
  {
   "cell_type": "code",
   "execution_count": 5,
   "metadata": {
    "execution": {
     "iopub.execute_input": "2025-07-23T08:27:33.636471Z",
     "iopub.status.busy": "2025-07-23T08:27:33.636253Z",
     "iopub.status.idle": "2025-07-23T08:28:11.236019Z",
     "shell.execute_reply": "2025-07-23T08:28:11.235313Z",
     "shell.execute_reply.started": "2025-07-23T08:27:33.636446Z"
    }
   },
   "outputs": [
    {
     "data": {
      "application/vnd.jupyter.widget-view+json": {
       "model_id": "b4084fa5fe2c475eb0c56485fd2e4420",
       "version_major": 2,
       "version_minor": 0
      },
      "text/plain": [
       "VBox()"
      ]
     },
     "metadata": {},
     "output_type": "display_data"
    },
    {
     "data": {
      "application/vnd.jupyter.widget-view+json": {
       "model_id": "",
       "version_major": 2,
       "version_minor": 0
      },
      "text/plain": [
       "FloatProgress(value=0.0, bar_style='info', description='Progress:', layout=Layout(height='25px', width='50%'),…"
      ]
     },
     "metadata": {},
     "output_type": "display_data"
    },
    {
     "name": "stdout",
     "output_type": "stream",
     "text": [
      "Total rows count yellow taxi file: 745067811\n",
      "root\n",
      " |-- VendorID: long (nullable = true)\n",
      " |-- tpep_pickup_datetime: timestamp_ntz (nullable = true)\n",
      " |-- tpep_dropoff_datetime: timestamp_ntz (nullable = true)\n",
      " |-- passenger_count: double (nullable = true)\n",
      " |-- trip_distance: double (nullable = true)\n",
      " |-- RatecodeID: double (nullable = true)\n",
      " |-- store_and_fwd_flag: string (nullable = true)\n",
      " |-- PULocationID: long (nullable = true)\n",
      " |-- DOLocationID: long (nullable = true)\n",
      " |-- payment_type: long (nullable = true)\n",
      " |-- fare_amount: double (nullable = true)\n",
      " |-- extra: double (nullable = true)\n",
      " |-- mta_tax: double (nullable = true)\n",
      " |-- tip_amount: double (nullable = true)\n",
      " |-- tolls_amount: double (nullable = true)\n",
      " |-- improvement_surcharge: double (nullable = true)\n",
      " |-- total_amount: double (nullable = true)\n",
      " |-- congestion_surcharge: double (nullable = true)\n",
      " |-- airport_fee: double (nullable = true)\n",
      " |-- lpep_pickup_datetime: void (nullable = true)\n",
      " |-- lpep_dropoff_datetime: void (nullable = true)\n",
      " |-- ehail_fee: void (nullable = true)\n",
      " |-- trip_type: void (nullable = true)\n",
      " |-- taxi_type: string (nullable = false)"
     ]
    }
   ],
   "source": [
    "yellow_taxi_union_list = []\n",
    "\n",
    "# prepare columns to cast\n",
    "columns_to_cast = {\n",
    "    \"PULocationID\": \"bigint\"\n",
    "}\n",
    "\n",
    "# prepare columns to add\n",
    "missing_columns = ['lpep_pickup_datetime', 'lpep_dropoff_datetime', 'ehail_fee', 'trip_type']\n",
    "\n",
    "# loop over the files to cast each file and collect them into a list\n",
    "for folder in range(2014,2024):\n",
    "    if folder not in (2019,2021):   # exclude missing folders\n",
    "        for file in range(1,13):\n",
    "            if not ((folder == 2023 and file in (10, 11, 12)) or (folder == 2020 and file == 2)):             # exclude missing files\n",
    "                YELLOW_TAXI_PATH_FILE = f\"s3a://{S3_BUCKET_NAME}/home-work-1/nyc_taxi/yellow/{folder}/yellow_tripdata_{folder}-{str(file).zfill(2)}.parquet\"\n",
    "\n",
    "                df = spark.read.parquet(YELLOW_TAXI_PATH_FILE)\n",
    "\n",
    "                for col_name in missing_columns:\n",
    "                    if col_name not in df.columns:\n",
    "                        df = df.withColumn(col_name, lit(None))\n",
    "\n",
    "                for col_name, target_type in columns_to_cast.items():\n",
    "                    df = df.withColumn(col_name, col(col_name).cast(target_type))\n",
    "\n",
    "                yellow_taxi_union_list.append(df)\n",
    "    \n",
    "### Align all colums    \n",
    "\n",
    "# Get all column names\n",
    "all_columns = set()\n",
    "for df in yellow_taxi_union_list:\n",
    "    all_columns.update(df.columns)\n",
    "all_columns = sorted(all_columns)\n",
    "\n",
    "# Align all DataFrames to have same columns\n",
    "def align_columns(df, all_cols):\n",
    "    for col_name in all_cols:\n",
    "        if col_name not in df.columns:\n",
    "            df = df.withColumn(col_name, lit(None))\n",
    "    return df.select(*all_cols)  # Reorder columns\n",
    "\n",
    "aligned_dfs = [align_columns(df, all_columns) for df in yellow_taxi_union_list]\n",
    "\n",
    "# Union all dfs into one\n",
    "yellow_taxi_final = yellow_taxi_union_list[0]\n",
    "\n",
    "for df in yellow_taxi_union_list[1:]:\n",
    "    yellow_taxi_final = yellow_taxi_final.unionByName(df)\n",
    "    \n",
    "yellow_taxi_final = yellow_taxi_final.withColumn(\"taxi_type\", lit(\"yellow\"))\n",
    "    \n",
    "print(f\"Total rows count yellow taxi file: {yellow_taxi_final.count()}\")\n",
    "\n",
    "yellow_taxi_final.printSchema()"
   ]
  },
  {
   "cell_type": "markdown",
   "metadata": {},
   "source": [
    "#### Add missing columns to Green taxi file"
   ]
  },
  {
   "cell_type": "code",
   "execution_count": 6,
   "metadata": {
    "execution": {
     "iopub.execute_input": "2025-07-23T08:28:13.897582Z",
     "iopub.status.busy": "2025-07-23T08:28:13.897347Z",
     "iopub.status.idle": "2025-07-23T08:28:14.143408Z",
     "shell.execute_reply": "2025-07-23T08:28:14.142753Z",
     "shell.execute_reply.started": "2025-07-23T08:28:13.897555Z"
    }
   },
   "outputs": [
    {
     "data": {
      "application/vnd.jupyter.widget-view+json": {
       "model_id": "090b6609e9c6484498b94e42472a1b13",
       "version_major": 2,
       "version_minor": 0
      },
      "text/plain": [
       "VBox()"
      ]
     },
     "metadata": {},
     "output_type": "display_data"
    },
    {
     "data": {
      "application/vnd.jupyter.widget-view+json": {
       "model_id": "",
       "version_major": 2,
       "version_minor": 0
      },
      "text/plain": [
       "FloatProgress(value=0.0, bar_style='info', description='Progress:', layout=Layout(height='25px', width='50%'),…"
      ]
     },
     "metadata": {},
     "output_type": "display_data"
    }
   ],
   "source": [
    "columns_to_add = [\"tpep_pickup_datetime\", \"tpep_dropoff_datetime\", \"airport_fee\"]\n",
    "for col_name in columns_to_add:\n",
    "        green_taxi_final = green_taxi_final.withColumn(col_name, lit(None))"
   ]
  },
  {
   "cell_type": "markdown",
   "metadata": {},
   "source": [
    "#### Combine Yellow and Green taxi files"
   ]
  },
  {
   "cell_type": "code",
   "execution_count": 7,
   "metadata": {
    "execution": {
     "iopub.execute_input": "2025-07-23T08:28:16.903130Z",
     "iopub.status.busy": "2025-07-23T08:28:16.902869Z",
     "iopub.status.idle": "2025-07-23T08:28:17.157530Z",
     "shell.execute_reply": "2025-07-23T08:28:17.156866Z",
     "shell.execute_reply.started": "2025-07-23T08:28:16.903103Z"
    }
   },
   "outputs": [
    {
     "data": {
      "application/vnd.jupyter.widget-view+json": {
       "model_id": "f4c1b59ec35c4cb5853e28fb0756c2bc",
       "version_major": 2,
       "version_minor": 0
      },
      "text/plain": [
       "VBox()"
      ]
     },
     "metadata": {},
     "output_type": "display_data"
    },
    {
     "data": {
      "application/vnd.jupyter.widget-view+json": {
       "model_id": "",
       "version_major": 2,
       "version_minor": 0
      },
      "text/plain": [
       "FloatProgress(value=0.0, bar_style='info', description='Progress:', layout=Layout(height='25px', width='50%'),…"
      ]
     },
     "metadata": {},
     "output_type": "display_data"
    }
   ],
   "source": [
    "raw_trips_df = yellow_taxi_final.unionByName(green_taxi_final)"
   ]
  },
  {
   "cell_type": "code",
   "execution_count": 8,
   "metadata": {
    "execution": {
     "iopub.execute_input": "2025-07-23T08:28:19.455553Z",
     "iopub.status.busy": "2025-07-23T08:28:19.455315Z",
     "iopub.status.idle": "2025-07-23T08:28:36.757799Z",
     "shell.execute_reply": "2025-07-23T08:28:36.757090Z",
     "shell.execute_reply.started": "2025-07-23T08:28:19.455527Z"
    },
    "tags": []
   },
   "outputs": [
    {
     "data": {
      "application/vnd.jupyter.widget-view+json": {
       "model_id": "4630b653ef5b47aba7d4f662148ed6c6",
       "version_major": 2,
       "version_minor": 0
      },
      "text/plain": [
       "VBox()"
      ]
     },
     "metadata": {},
     "output_type": "display_data"
    },
    {
     "data": {
      "application/vnd.jupyter.widget-view+json": {
       "model_id": "",
       "version_major": 2,
       "version_minor": 0
      },
      "text/plain": [
       "FloatProgress(value=0.0, bar_style='info', description='Progress:', layout=Layout(height='25px', width='50%'),…"
      ]
     },
     "metadata": {},
     "output_type": "display_data"
    },
    {
     "name": "stdout",
     "output_type": "stream",
     "text": [
      "+--------+--------------------+---------------------+---------------+-------------+----------+------------------+------------+------------+------------+-----------+-----+-------+----------+------------+---------------------+------------+--------------------+-----------+--------------------+---------------------+---------+---------+---------+\n",
      "|VendorID|tpep_pickup_datetime|tpep_dropoff_datetime|passenger_count|trip_distance|RatecodeID|store_and_fwd_flag|PULocationID|DOLocationID|payment_type|fare_amount|extra|mta_tax|tip_amount|tolls_amount|improvement_surcharge|total_amount|congestion_surcharge|airport_fee|lpep_pickup_datetime|lpep_dropoff_datetime|ehail_fee|trip_type|taxi_type|\n",
      "+--------+--------------------+---------------------+---------------+-------------+----------+------------------+------------+------------+------------+-----------+-----+-------+----------+------------+---------------------+------------+--------------------+-----------+--------------------+---------------------+---------+---------+---------+\n",
      "|       2| 2014-01-01 00:02:00|  2014-01-01 00:04:00|            6.0|          0.0|       1.0|              NULL|         146|         146|           1|        3.5|  0.5|    0.5|      0.02|         0.0|                  0.0|        4.52|                NULL|       NULL|                NULL|                 NULL|     NULL|     NULL|   yellow|\n",
      "+--------+--------------------+---------------------+---------------+-------------+----------+------------------+------------+------------+------------+-----------+-----+-------+----------+------------+---------------------+------------+--------------------+-----------+--------------------+---------------------+---------+---------+---------+"
     ]
    }
   ],
   "source": [
    "# show first row\n",
    "raw_trips_df.limit(1).show()"
   ]
  },
  {
   "cell_type": "markdown",
   "metadata": {},
   "source": [
    "#### Make transformations for the united file"
   ]
  },
  {
   "cell_type": "code",
   "execution_count": 9,
   "metadata": {
    "execution": {
     "iopub.execute_input": "2025-07-23T08:28:42.606036Z",
     "iopub.status.busy": "2025-07-23T08:28:42.605667Z",
     "iopub.status.idle": "2025-07-23T08:28:42.877066Z",
     "shell.execute_reply": "2025-07-23T08:28:42.876215Z",
     "shell.execute_reply.started": "2025-07-23T08:28:42.605994Z"
    }
   },
   "outputs": [
    {
     "data": {
      "application/vnd.jupyter.widget-view+json": {
       "model_id": "864ee553b2654100bc9de5554840969c",
       "version_major": 2,
       "version_minor": 0
      },
      "text/plain": [
       "VBox()"
      ]
     },
     "metadata": {},
     "output_type": "display_data"
    },
    {
     "data": {
      "application/vnd.jupyter.widget-view+json": {
       "model_id": "",
       "version_major": 2,
       "version_minor": 0
      },
      "text/plain": [
       "FloatProgress(value=0.0, bar_style='info', description='Progress:', layout=Layout(height='25px', width='50%'),…"
      ]
     },
     "metadata": {},
     "output_type": "display_data"
    }
   ],
   "source": [
    "raw_trips_df = raw_trips_df.withColumn(\"pickup_unix\", unix_timestamp(\"tpep_pickup_datetime\"))  # prepare proper format for calculation\n",
    "raw_trips_df = raw_trips_df.withColumn(\"dropoff_unix\", unix_timestamp(\"tpep_dropoff_datetime\")) # prepare proper format for calculation\n",
    "raw_trips_df = raw_trips_df.withColumn(\"duration_min\", (col(\"dropoff_unix\").cast(\"long\") - col(\"pickup_unix\").cast(\"long\")) / 60)  ## calc duration minutes"
   ]
  },
  {
   "cell_type": "code",
   "execution_count": 10,
   "metadata": {
    "execution": {
     "iopub.execute_input": "2025-07-23T08:28:45.961271Z",
     "iopub.status.busy": "2025-07-23T08:28:45.961053Z",
     "iopub.status.idle": "2025-07-23T08:29:01.322996Z",
     "shell.execute_reply": "2025-07-23T08:29:01.322040Z",
     "shell.execute_reply.started": "2025-07-23T08:28:45.961246Z"
    }
   },
   "outputs": [
    {
     "data": {
      "application/vnd.jupyter.widget-view+json": {
       "model_id": "96f133c41efc47288841cba419a320b3",
       "version_major": 2,
       "version_minor": 0
      },
      "text/plain": [
       "VBox()"
      ]
     },
     "metadata": {},
     "output_type": "display_data"
    },
    {
     "data": {
      "application/vnd.jupyter.widget-view+json": {
       "model_id": "",
       "version_major": 2,
       "version_minor": 0
      },
      "text/plain": [
       "FloatProgress(value=0.0, bar_style='info', description='Progress:', layout=Layout(height='25px', width='50%'),…"
      ]
     },
     "metadata": {},
     "output_type": "display_data"
    },
    {
     "name": "stdout",
     "output_type": "stream",
     "text": [
      "+--------+--------------------+---------------------+---------------+-------------+----------+------------------+------------+------------+------------+-----------+-----+-------+----------+------------+---------------------+------------+--------------------+-----------+--------------------+---------------------+---------+---------+---------+-----------+------------+------------+\n",
      "|VendorID|tpep_pickup_datetime|tpep_dropoff_datetime|passenger_count|trip_distance|RatecodeID|store_and_fwd_flag|PULocationID|DOLocationID|payment_type|fare_amount|extra|mta_tax|tip_amount|tolls_amount|improvement_surcharge|total_amount|congestion_surcharge|airport_fee|lpep_pickup_datetime|lpep_dropoff_datetime|ehail_fee|trip_type|taxi_type|pickup_unix|dropoff_unix|duration_min|\n",
      "+--------+--------------------+---------------------+---------------+-------------+----------+------------------+------------+------------+------------+-----------+-----+-------+----------+------------+---------------------+------------+--------------------+-----------+--------------------+---------------------+---------+---------+---------+-----------+------------+------------+\n",
      "|       2| 2014-01-01 00:02:00|  2014-01-01 00:04:00|            6.0|          0.0|       1.0|              NULL|         146|         146|           1|        3.5|  0.5|    0.5|      0.02|         0.0|                  0.0|        4.52|                NULL|       NULL|                NULL|                 NULL|     NULL|     NULL|   yellow| 1388534520|  1388534640|         2.0|\n",
      "+--------+--------------------+---------------------+---------------+-------------+----------+------------------+------------+------------+------------+-----------+-----+-------+----------+------------+---------------------+------------+--------------------+-----------+--------------------+---------------------+---------+---------+---------+-----------+------------+------------+"
     ]
    }
   ],
   "source": [
    "# show first row\n",
    "raw_trips_df.limit(1).show()"
   ]
  },
  {
   "cell_type": "code",
   "execution_count": 11,
   "metadata": {
    "execution": {
     "iopub.execute_input": "2025-07-23T08:29:15.635313Z",
     "iopub.status.busy": "2025-07-23T08:29:15.635087Z",
     "iopub.status.idle": "2025-07-23T08:29:15.887835Z",
     "shell.execute_reply": "2025-07-23T08:29:15.887197Z",
     "shell.execute_reply.started": "2025-07-23T08:29:15.635288Z"
    }
   },
   "outputs": [
    {
     "data": {
      "application/vnd.jupyter.widget-view+json": {
       "model_id": "adef6ec1526d489abfca7394b4b51d1d",
       "version_major": 2,
       "version_minor": 0
      },
      "text/plain": [
       "VBox()"
      ]
     },
     "metadata": {},
     "output_type": "display_data"
    },
    {
     "data": {
      "application/vnd.jupyter.widget-view+json": {
       "model_id": "",
       "version_major": 2,
       "version_minor": 0
      },
      "text/plain": [
       "FloatProgress(value=0.0, bar_style='info', description='Progress:', layout=Layout(height='25px', width='50%'),…"
      ]
     },
     "metadata": {},
     "output_type": "display_data"
    }
   ],
   "source": [
    "# filter raw trips df\n",
    "raw_trips_df_filtered = raw_trips_df.filter((raw_trips_df.trip_distance > 0.1) & (raw_trips_df.fare_amount > 2) & (raw_trips_df.duration_min > 1))"
   ]
  },
  {
   "cell_type": "code",
   "execution_count": 12,
   "metadata": {
    "execution": {
     "iopub.execute_input": "2025-07-23T08:29:18.050594Z",
     "iopub.status.busy": "2025-07-23T08:29:18.050378Z",
     "iopub.status.idle": "2025-07-23T08:29:27.340335Z",
     "shell.execute_reply": "2025-07-23T08:29:27.339578Z",
     "shell.execute_reply.started": "2025-07-23T08:29:18.050570Z"
    }
   },
   "outputs": [
    {
     "data": {
      "application/vnd.jupyter.widget-view+json": {
       "model_id": "b14c42d17e9a4bebac7ead14ed3f5ff6",
       "version_major": 2,
       "version_minor": 0
      },
      "text/plain": [
       "VBox()"
      ]
     },
     "metadata": {},
     "output_type": "display_data"
    },
    {
     "data": {
      "application/vnd.jupyter.widget-view+json": {
       "model_id": "",
       "version_major": 2,
       "version_minor": 0
      },
      "text/plain": [
       "FloatProgress(value=0.0, bar_style='info', description='Progress:', layout=Layout(height='25px', width='50%'),…"
      ]
     },
     "metadata": {},
     "output_type": "display_data"
    },
    {
     "name": "stdout",
     "output_type": "stream",
     "text": [
      "+--------+--------------------+---------------------+---------------+-------------+----------+------------------+------------+------------+------------+-----------+-----+-------+----------+------------+---------------------+------------+--------------------+-----------+--------------------+---------------------+---------+---------+---------+-----------+------------+-----------------+\n",
      "|VendorID|tpep_pickup_datetime|tpep_dropoff_datetime|passenger_count|trip_distance|RatecodeID|store_and_fwd_flag|PULocationID|DOLocationID|payment_type|fare_amount|extra|mta_tax|tip_amount|tolls_amount|improvement_surcharge|total_amount|congestion_surcharge|airport_fee|lpep_pickup_datetime|lpep_dropoff_datetime|ehail_fee|trip_type|taxi_type|pickup_unix|dropoff_unix|     duration_min|\n",
      "+--------+--------------------+---------------------+---------------+-------------+----------+------------------+------------+------------+------------+-----------+-----+-------+----------+------------+---------------------+------------+--------------------+-----------+--------------------+---------------------+---------+---------+---------+-----------+------------+-----------------+\n",
      "|       1| 2014-01-01 00:29:18|  2014-01-01 00:35:13|            2.0|          1.8|       1.0|                 N|         229|         262|           2|        7.5|  0.5|    0.5|       0.0|         0.0|                  0.0|         8.5|                NULL|       NULL|                NULL|                 NULL|     NULL|     NULL|   yellow| 1388536158|  1388536513|5.916666666666667|\n",
      "+--------+--------------------+---------------------+---------------+-------------+----------+------------------+------------+------------+------------+-----------+-----+-------+----------+------------+---------------------+------------+--------------------+-----------+--------------------+---------------------+---------+---------+---------+-----------+------------+-----------------+"
     ]
    }
   ],
   "source": [
    "# show first row of filtered df\n",
    "raw_trips_df_filtered.limit(1).show()"
   ]
  },
  {
   "cell_type": "code",
   "execution_count": 13,
   "metadata": {
    "execution": {
     "iopub.execute_input": "2025-07-23T08:29:30.789486Z",
     "iopub.status.busy": "2025-07-23T08:29:30.789260Z",
     "iopub.status.idle": "2025-07-23T08:30:38.231769Z",
     "shell.execute_reply": "2025-07-23T08:30:38.231118Z",
     "shell.execute_reply.started": "2025-07-23T08:29:30.789461Z"
    }
   },
   "outputs": [
    {
     "data": {
      "application/vnd.jupyter.widget-view+json": {
       "model_id": "9bcb645ef65b4f25ab77695a0ce57454",
       "version_major": 2,
       "version_minor": 0
      },
      "text/plain": [
       "VBox()"
      ]
     },
     "metadata": {},
     "output_type": "display_data"
    },
    {
     "data": {
      "application/vnd.jupyter.widget-view+json": {
       "model_id": "",
       "version_major": 2,
       "version_minor": 0
      },
      "text/plain": [
       "FloatProgress(value=0.0, bar_style='info', description='Progress:', layout=Layout(height='25px', width='50%'),…"
      ]
     },
     "metadata": {},
     "output_type": "display_data"
    },
    {
     "name": "stdout",
     "output_type": "stream",
     "text": [
      "734844554"
     ]
    }
   ],
   "source": [
    "# count of rows\n",
    "raw_trips_df_filtered.count()"
   ]
  },
  {
   "cell_type": "code",
   "execution_count": 14,
   "metadata": {
    "execution": {
     "iopub.execute_input": "2025-07-23T08:30:41.801472Z",
     "iopub.status.busy": "2025-07-23T08:30:41.801217Z",
     "iopub.status.idle": "2025-07-23T08:30:42.049846Z",
     "shell.execute_reply": "2025-07-23T08:30:42.049045Z",
     "shell.execute_reply.started": "2025-07-23T08:30:41.801445Z"
    }
   },
   "outputs": [
    {
     "data": {
      "application/vnd.jupyter.widget-view+json": {
       "model_id": "d3bab38748cf4541bd4dd41c25eeb29d",
       "version_major": 2,
       "version_minor": 0
      },
      "text/plain": [
       "VBox()"
      ]
     },
     "metadata": {},
     "output_type": "display_data"
    },
    {
     "data": {
      "application/vnd.jupyter.widget-view+json": {
       "model_id": "",
       "version_major": 2,
       "version_minor": 0
      },
      "text/plain": [
       "FloatProgress(value=0.0, bar_style='info', description='Progress:', layout=Layout(height='25px', width='50%'),…"
      ]
     },
     "metadata": {},
     "output_type": "display_data"
    }
   ],
   "source": [
    "# prepare pickup hour and day of week\n",
    "raw_trips_df = raw_trips_df.withColumn(\"pickup_hour\", hour('tpep_pickup_datetime'))\n",
    "raw_trips_df = raw_trips_df.withColumn(\"pickup_day_of_week\", dayofweek('tpep_pickup_datetime'))"
   ]
  },
  {
   "cell_type": "markdown",
   "metadata": {},
   "source": [
    "#### Join the file with Zone Lookup with Broadcast Hash Join"
   ]
  },
  {
   "cell_type": "code",
   "execution_count": 15,
   "metadata": {
    "execution": {
     "iopub.execute_input": "2025-07-23T08:30:50.082266Z",
     "iopub.status.busy": "2025-07-23T08:30:50.082015Z",
     "iopub.status.idle": "2025-07-23T08:30:52.341429Z",
     "shell.execute_reply": "2025-07-23T08:30:52.340779Z",
     "shell.execute_reply.started": "2025-07-23T08:30:50.082238Z"
    }
   },
   "outputs": [
    {
     "data": {
      "application/vnd.jupyter.widget-view+json": {
       "model_id": "6d4a6ad9d77d4cf7a3a165b3d04935ea",
       "version_major": 2,
       "version_minor": 0
      },
      "text/plain": [
       "VBox()"
      ]
     },
     "metadata": {},
     "output_type": "display_data"
    },
    {
     "data": {
      "application/vnd.jupyter.widget-view+json": {
       "model_id": "",
       "version_major": 2,
       "version_minor": 0
      },
      "text/plain": [
       "FloatProgress(value=0.0, bar_style='info', description='Progress:', layout=Layout(height='25px', width='50%'),…"
      ]
     },
     "metadata": {},
     "output_type": "display_data"
    }
   ],
   "source": [
    "# load csv zone lookup file\n",
    "taxi_zone_lookup_df = spark.read.csv(TAXI_ZONE_LOOKUP_PATH, header=True, inferSchema=True)"
   ]
  },
  {
   "cell_type": "code",
   "execution_count": 16,
   "metadata": {
    "execution": {
     "iopub.execute_input": "2025-07-23T08:30:54.852501Z",
     "iopub.status.busy": "2025-07-23T08:30:54.852276Z",
     "iopub.status.idle": "2025-07-23T08:30:54.898219Z",
     "shell.execute_reply": "2025-07-23T08:30:54.897611Z",
     "shell.execute_reply.started": "2025-07-23T08:30:54.852476Z"
    }
   },
   "outputs": [
    {
     "data": {
      "application/vnd.jupyter.widget-view+json": {
       "model_id": "213aa091d5934449a84ae7817ce8bdf2",
       "version_major": 2,
       "version_minor": 0
      },
      "text/plain": [
       "VBox()"
      ]
     },
     "metadata": {},
     "output_type": "display_data"
    },
    {
     "data": {
      "application/vnd.jupyter.widget-view+json": {
       "model_id": "",
       "version_major": 2,
       "version_minor": 0
      },
      "text/plain": [
       "FloatProgress(value=0.0, bar_style='info', description='Progress:', layout=Layout(height='25px', width='50%'),…"
      ]
     },
     "metadata": {},
     "output_type": "display_data"
    },
    {
     "name": "stdout",
     "output_type": "stream",
     "text": [
      "root\n",
      " |-- LocationID: integer (nullable = true)\n",
      " |-- Borough: string (nullable = true)\n",
      " |-- Zone: string (nullable = true)\n",
      " |-- service_zone: string (nullable = true)"
     ]
    }
   ],
   "source": [
    "# schema for the csv file loaded\n",
    "taxi_zone_lookup_df.printSchema()"
   ]
  },
  {
   "cell_type": "code",
   "execution_count": 17,
   "metadata": {
    "execution": {
     "iopub.execute_input": "2025-07-23T08:30:56.850324Z",
     "iopub.status.busy": "2025-07-23T08:30:56.850003Z",
     "iopub.status.idle": "2025-07-23T08:30:57.090151Z",
     "shell.execute_reply": "2025-07-23T08:30:57.089282Z",
     "shell.execute_reply.started": "2025-07-23T08:30:56.850285Z"
    }
   },
   "outputs": [
    {
     "data": {
      "application/vnd.jupyter.widget-view+json": {
       "model_id": "223299f8f5a0491b9cf24f43a008ff6c",
       "version_major": 2,
       "version_minor": 0
      },
      "text/plain": [
       "VBox()"
      ]
     },
     "metadata": {},
     "output_type": "display_data"
    },
    {
     "data": {
      "application/vnd.jupyter.widget-view+json": {
       "model_id": "",
       "version_major": 2,
       "version_minor": 0
      },
      "text/plain": [
       "FloatProgress(value=0.0, bar_style='info', description='Progress:', layout=Layout(height='25px', width='50%'),…"
      ]
     },
     "metadata": {},
     "output_type": "display_data"
    },
    {
     "name": "stdout",
     "output_type": "stream",
     "text": [
      "265"
     ]
    }
   ],
   "source": [
    "# rows count\n",
    "taxi_zone_lookup_df.count()"
   ]
  },
  {
   "cell_type": "code",
   "execution_count": 18,
   "metadata": {
    "execution": {
     "iopub.execute_input": "2025-07-23T08:30:58.847552Z",
     "iopub.status.busy": "2025-07-23T08:30:58.847321Z",
     "iopub.status.idle": "2025-07-23T08:30:59.094924Z",
     "shell.execute_reply": "2025-07-23T08:30:59.094148Z",
     "shell.execute_reply.started": "2025-07-23T08:30:58.847525Z"
    }
   },
   "outputs": [
    {
     "data": {
      "application/vnd.jupyter.widget-view+json": {
       "model_id": "12bdbfe745b34133a873f7834cb4c381",
       "version_major": 2,
       "version_minor": 0
      },
      "text/plain": [
       "VBox()"
      ]
     },
     "metadata": {},
     "output_type": "display_data"
    },
    {
     "data": {
      "application/vnd.jupyter.widget-view+json": {
       "model_id": "",
       "version_major": 2,
       "version_minor": 0
      },
      "text/plain": [
       "FloatProgress(value=0.0, bar_style='info', description='Progress:', layout=Layout(height='25px', width='50%'),…"
      ]
     },
     "metadata": {},
     "output_type": "display_data"
    },
    {
     "name": "stdout",
     "output_type": "stream",
     "text": [
      "+----------+-------+--------------+------------+\n",
      "|LocationID|Borough|          Zone|service_zone|\n",
      "+----------+-------+--------------+------------+\n",
      "|         1|    EWR|Newark Airport|         EWR|\n",
      "+----------+-------+--------------+------------+"
     ]
    }
   ],
   "source": [
    "# first row\n",
    "taxi_zone_lookup_df.limit(1).show()"
   ]
  },
  {
   "cell_type": "code",
   "execution_count": 19,
   "metadata": {
    "execution": {
     "iopub.execute_input": "2025-07-23T08:31:01.038529Z",
     "iopub.status.busy": "2025-07-23T08:31:01.038311Z",
     "iopub.status.idle": "2025-07-23T08:31:01.081488Z",
     "shell.execute_reply": "2025-07-23T08:31:01.080866Z",
     "shell.execute_reply.started": "2025-07-23T08:31:01.038504Z"
    }
   },
   "outputs": [
    {
     "data": {
      "application/vnd.jupyter.widget-view+json": {
       "model_id": "b3f57f1fb89741b7b508ee68ec17bac4",
       "version_major": 2,
       "version_minor": 0
      },
      "text/plain": [
       "VBox()"
      ]
     },
     "metadata": {},
     "output_type": "display_data"
    },
    {
     "data": {
      "application/vnd.jupyter.widget-view+json": {
       "model_id": "",
       "version_major": 2,
       "version_minor": 0
      },
      "text/plain": [
       "FloatProgress(value=0.0, bar_style='info', description='Progress:', layout=Layout(height='25px', width='50%'),…"
      ]
     },
     "metadata": {},
     "output_type": "display_data"
    }
   ],
   "source": [
    "# set a low autoBroadcastJoinThreshold, 1MB for small tables to broadcast.\n",
    "spark.conf.set(\"spark.sql.autoBroadcastJoinThreshold\", \"1048576\")"
   ]
  },
  {
   "cell_type": "code",
   "execution_count": 20,
   "metadata": {
    "execution": {
     "iopub.execute_input": "2025-07-23T08:31:02.929743Z",
     "iopub.status.busy": "2025-07-23T08:31:02.929510Z",
     "iopub.status.idle": "2025-07-23T08:31:02.977468Z",
     "shell.execute_reply": "2025-07-23T08:31:02.976724Z",
     "shell.execute_reply.started": "2025-07-23T08:31:02.929718Z"
    }
   },
   "outputs": [
    {
     "data": {
      "application/vnd.jupyter.widget-view+json": {
       "model_id": "9d41cdd5cac34ff0855ff6229a0c5e83",
       "version_major": 2,
       "version_minor": 0
      },
      "text/plain": [
       "VBox()"
      ]
     },
     "metadata": {},
     "output_type": "display_data"
    },
    {
     "data": {
      "application/vnd.jupyter.widget-view+json": {
       "model_id": "",
       "version_major": 2,
       "version_minor": 0
      },
      "text/plain": [
       "FloatProgress(value=0.0, bar_style='info', description='Progress:', layout=Layout(height='25px', width='50%'),…"
      ]
     },
     "metadata": {},
     "output_type": "display_data"
    }
   ],
   "source": [
    "# select only required fields from zone lookup file\n",
    "zone_lookup_df_selected = taxi_zone_lookup_df.select(\"LocationID\", \"Zone\")"
   ]
  },
  {
   "cell_type": "code",
   "execution_count": 21,
   "metadata": {
    "execution": {
     "iopub.execute_input": "2025-07-23T08:31:06.927728Z",
     "iopub.status.busy": "2025-07-23T08:31:06.927505Z",
     "iopub.status.idle": "2025-07-23T08:31:07.180919Z",
     "shell.execute_reply": "2025-07-23T08:31:07.180140Z",
     "shell.execute_reply.started": "2025-07-23T08:31:06.927702Z"
    }
   },
   "outputs": [
    {
     "data": {
      "application/vnd.jupyter.widget-view+json": {
       "model_id": "c7adfc72fe6546218fffa275ead306d7",
       "version_major": 2,
       "version_minor": 0
      },
      "text/plain": [
       "VBox()"
      ]
     },
     "metadata": {},
     "output_type": "display_data"
    },
    {
     "data": {
      "application/vnd.jupyter.widget-view+json": {
       "model_id": "",
       "version_major": 2,
       "version_minor": 0
      },
      "text/plain": [
       "FloatProgress(value=0.0, bar_style='info', description='Progress:', layout=Layout(height='25px', width='50%'),…"
      ]
     },
     "metadata": {},
     "output_type": "display_data"
    }
   ],
   "source": [
    "# join with zone lookup based on Pick Up location to take pick up zone\n",
    "raw_trips_df_with_PUzone = raw_trips_df.join(\n",
    "    broadcast(zone_lookup_df_selected),\n",
    "    raw_trips_df.PULocationID == zone_lookup_df_selected.LocationID,\n",
    "    \"left_outer\"\n",
    ").drop('LocationID').withColumnRenamed(\"Zone\", \"pickup_zone\")"
   ]
  },
  {
   "cell_type": "code",
   "execution_count": 22,
   "metadata": {
    "execution": {
     "iopub.execute_input": "2025-07-23T08:31:09.255109Z",
     "iopub.status.busy": "2025-07-23T08:31:09.254892Z",
     "iopub.status.idle": "2025-07-23T08:31:09.502532Z",
     "shell.execute_reply": "2025-07-23T08:31:09.501864Z",
     "shell.execute_reply.started": "2025-07-23T08:31:09.255084Z"
    }
   },
   "outputs": [
    {
     "data": {
      "application/vnd.jupyter.widget-view+json": {
       "model_id": "4d07aee8e2c24d69a340e6f0cad09207",
       "version_major": 2,
       "version_minor": 0
      },
      "text/plain": [
       "VBox()"
      ]
     },
     "metadata": {},
     "output_type": "display_data"
    },
    {
     "data": {
      "application/vnd.jupyter.widget-view+json": {
       "model_id": "",
       "version_major": 2,
       "version_minor": 0
      },
      "text/plain": [
       "FloatProgress(value=0.0, bar_style='info', description='Progress:', layout=Layout(height='25px', width='50%'),…"
      ]
     },
     "metadata": {},
     "output_type": "display_data"
    }
   ],
   "source": [
    "# join with zone lookup based on Drop Off location to take drop off zone\n",
    "raw_trips_df_with_allZone = raw_trips_df_with_PUzone.join(\n",
    "    broadcast(zone_lookup_df_selected),\n",
    "    raw_trips_df_with_PUzone.DOLocationID == zone_lookup_df_selected.LocationID,\n",
    "    \"left_outer\"\n",
    ").drop('LocationID').withColumnRenamed(\"Zone\", \"dropoff_zone\")"
   ]
  },
  {
   "cell_type": "code",
   "execution_count": 23,
   "metadata": {
    "execution": {
     "iopub.execute_input": "2025-07-23T08:31:11.033852Z",
     "iopub.status.busy": "2025-07-23T08:31:11.033611Z",
     "iopub.status.idle": "2025-07-23T08:31:11.074425Z",
     "shell.execute_reply": "2025-07-23T08:31:11.073760Z",
     "shell.execute_reply.started": "2025-07-23T08:31:11.033824Z"
    }
   },
   "outputs": [
    {
     "data": {
      "application/vnd.jupyter.widget-view+json": {
       "model_id": "4419d187593041f69557478f1bd10066",
       "version_major": 2,
       "version_minor": 0
      },
      "text/plain": [
       "VBox()"
      ]
     },
     "metadata": {},
     "output_type": "display_data"
    },
    {
     "data": {
      "application/vnd.jupyter.widget-view+json": {
       "model_id": "",
       "version_major": 2,
       "version_minor": 0
      },
      "text/plain": [
       "FloatProgress(value=0.0, bar_style='info', description='Progress:', layout=Layout(height='25px', width='50%'),…"
      ]
     },
     "metadata": {},
     "output_type": "display_data"
    },
    {
     "name": "stdout",
     "output_type": "stream",
     "text": [
      "root\n",
      " |-- VendorID: long (nullable = true)\n",
      " |-- tpep_pickup_datetime: timestamp_ntz (nullable = true)\n",
      " |-- tpep_dropoff_datetime: timestamp_ntz (nullable = true)\n",
      " |-- passenger_count: double (nullable = true)\n",
      " |-- trip_distance: double (nullable = true)\n",
      " |-- RatecodeID: double (nullable = true)\n",
      " |-- store_and_fwd_flag: string (nullable = true)\n",
      " |-- PULocationID: long (nullable = true)\n",
      " |-- DOLocationID: long (nullable = true)\n",
      " |-- payment_type: long (nullable = true)\n",
      " |-- fare_amount: double (nullable = true)\n",
      " |-- extra: double (nullable = true)\n",
      " |-- mta_tax: double (nullable = true)\n",
      " |-- tip_amount: double (nullable = true)\n",
      " |-- tolls_amount: double (nullable = true)\n",
      " |-- improvement_surcharge: double (nullable = true)\n",
      " |-- total_amount: double (nullable = true)\n",
      " |-- congestion_surcharge: double (nullable = true)\n",
      " |-- airport_fee: double (nullable = true)\n",
      " |-- lpep_pickup_datetime: timestamp_ntz (nullable = true)\n",
      " |-- lpep_dropoff_datetime: timestamp_ntz (nullable = true)\n",
      " |-- ehail_fee: double (nullable = true)\n",
      " |-- trip_type: double (nullable = true)\n",
      " |-- taxi_type: string (nullable = false)\n",
      " |-- pickup_unix: long (nullable = true)\n",
      " |-- dropoff_unix: long (nullable = true)\n",
      " |-- duration_min: double (nullable = true)\n",
      " |-- pickup_hour: integer (nullable = true)\n",
      " |-- pickup_day_of_week: integer (nullable = true)\n",
      " |-- pickup_zone: string (nullable = true)\n",
      " |-- dropoff_zone: string (nullable = true)"
     ]
    }
   ],
   "source": [
    "# final file with zones schema\n",
    "raw_trips_df_with_allZone.printSchema()"
   ]
  },
  {
   "cell_type": "code",
   "execution_count": 24,
   "metadata": {
    "execution": {
     "iopub.execute_input": "2025-07-23T08:31:13.681788Z",
     "iopub.status.busy": "2025-07-23T08:31:13.681553Z",
     "iopub.status.idle": "2025-07-23T08:31:29.015471Z",
     "shell.execute_reply": "2025-07-23T08:31:29.014555Z",
     "shell.execute_reply.started": "2025-07-23T08:31:13.681762Z"
    },
    "tags": []
   },
   "outputs": [
    {
     "data": {
      "application/vnd.jupyter.widget-view+json": {
       "model_id": "3edf618e83a04a9fa36cc3452194d763",
       "version_major": 2,
       "version_minor": 0
      },
      "text/plain": [
       "VBox()"
      ]
     },
     "metadata": {},
     "output_type": "display_data"
    },
    {
     "data": {
      "application/vnd.jupyter.widget-view+json": {
       "model_id": "",
       "version_major": 2,
       "version_minor": 0
      },
      "text/plain": [
       "FloatProgress(value=0.0, bar_style='info', description='Progress:', layout=Layout(height='25px', width='50%'),…"
      ]
     },
     "metadata": {},
     "output_type": "display_data"
    },
    {
     "name": "stdout",
     "output_type": "stream",
     "text": [
      "+--------+--------------------+---------------------+---------------+-------------+----------+------------------+------------+------------+------------+-----------+-----+-------+----------+------------+---------------------+------------+--------------------+-----------+--------------------+---------------------+---------+---------+---------+-----------+------------+------------+-----------+------------------+--------------------+--------------------+\n",
      "|VendorID|tpep_pickup_datetime|tpep_dropoff_datetime|passenger_count|trip_distance|RatecodeID|store_and_fwd_flag|PULocationID|DOLocationID|payment_type|fare_amount|extra|mta_tax|tip_amount|tolls_amount|improvement_surcharge|total_amount|congestion_surcharge|airport_fee|lpep_pickup_datetime|lpep_dropoff_datetime|ehail_fee|trip_type|taxi_type|pickup_unix|dropoff_unix|duration_min|pickup_hour|pickup_day_of_week|         pickup_zone|        dropoff_zone|\n",
      "+--------+--------------------+---------------------+---------------+-------------+----------+------------------+------------+------------+------------+-----------+-----+-------+----------+------------+---------------------+------------+--------------------+-----------+--------------------+---------------------+---------+---------+---------+-----------+------------+------------+-----------+------------------+--------------------+--------------------+\n",
      "|       2| 2014-01-01 00:02:00|  2014-01-01 00:04:00|            6.0|          0.0|       1.0|              NULL|         146|         146|           1|        3.5|  0.5|    0.5|      0.02|         0.0|                  0.0|        4.52|                NULL|       NULL|                NULL|                 NULL|     NULL|     NULL|   yellow| 1388534520|  1388534640|         2.0|          0|                 4|Long Island City/...|Long Island City/...|\n",
      "+--------+--------------------+---------------------+---------------+-------------+----------+------------------+------------+------------+------------+-----------+-----+-------+----------+------------+---------------------+------------+--------------------+-----------+--------------------+---------------------+---------+---------+---------+-----------+------------+------------+-----------+------------------+--------------------+--------------------+"
     ]
    }
   ],
   "source": [
    "# show first row of raw trips df with all zones\n",
    "raw_trips_df_with_allZone.limit(1).show()"
   ]
  },
  {
   "cell_type": "markdown",
   "metadata": {},
   "source": [
    "#### 3: Створення та агрегація фінального датафрейму zone_summary"
   ]
  },
  {
   "cell_type": "markdown",
   "metadata": {},
   "source": [
    "#### Make aggregations"
   ]
  },
  {
   "cell_type": "code",
   "execution_count": null,
   "metadata": {},
   "outputs": [],
   "source": [
    "  * pickup_zone — зона посадки\n",
    "  * total_trips — загальна кількість поїздок\n",
    "  * avg_trip_distance — середня відстань поїздки\n",
    "  * avg_total_amount — середній тариф поїздки\n",
    "  * avg_tip_amount — середня сума чайових\n",
    "  * yellow_share — частка жовтих поїздок у зоні\n",
    "  * green_share — частка зелених поїздок у зоні\n",
    "  * max_trip_distance — максимальна відстань поїздки\n",
    "  * min_tip_amount — мінімальна сума чайових"
   ]
  },
  {
   "cell_type": "code",
   "execution_count": 25,
   "metadata": {
    "execution": {
     "iopub.execute_input": "2025-07-23T08:31:49.602966Z",
     "iopub.status.busy": "2025-07-23T08:31:49.602728Z",
     "iopub.status.idle": "2025-07-23T08:31:49.850616Z",
     "shell.execute_reply": "2025-07-23T08:31:49.849893Z",
     "shell.execute_reply.started": "2025-07-23T08:31:49.602937Z"
    }
   },
   "outputs": [
    {
     "data": {
      "application/vnd.jupyter.widget-view+json": {
       "model_id": "ef608ec85b44421783c500d48c1dd912",
       "version_major": 2,
       "version_minor": 0
      },
      "text/plain": [
       "VBox()"
      ]
     },
     "metadata": {},
     "output_type": "display_data"
    },
    {
     "data": {
      "application/vnd.jupyter.widget-view+json": {
       "model_id": "",
       "version_major": 2,
       "version_minor": 0
      },
      "text/plain": [
       "FloatProgress(value=0.0, bar_style='info', description='Progress:', layout=Layout(height='25px', width='50%'),…"
      ]
     },
     "metadata": {},
     "output_type": "display_data"
    }
   ],
   "source": [
    "zone_summary = raw_trips_df_with_allZone.groupBy(\"pickup_zone\").agg(  \n",
    "    count(\"*\").alias(\"total_trips\"),\n",
    "    avg(\"trip_distance\").alias(\"avg_trip_distance\"),\n",
    "    avg(\"total_amount\").alias(\"avg_total_amount\"),\n",
    "    avg(\"tip_amount\").alias(\"avg_tip_amount\"),\n",
    "    max(\"trip_distance\").alias(\"max_trip_distance\"),\n",
    "    min(\"tip_amount\").alias(\"min_tip_amount\"),\n",
    "    sum(when(col(\"taxi_type\") == \"yellow\", 1).otherwise(0)).alias(\"yellow_trips\"),\n",
    "    sum(when(col(\"taxi_type\") == \"green\", 1).otherwise(0)).alias(\"green_trips\")\n",
    "    )"
   ]
  },
  {
   "cell_type": "code",
   "execution_count": 26,
   "metadata": {
    "execution": {
     "iopub.execute_input": "2025-07-23T08:31:53.146619Z",
     "iopub.status.busy": "2025-07-23T08:31:53.146395Z",
     "iopub.status.idle": "2025-07-23T08:31:53.393757Z",
     "shell.execute_reply": "2025-07-23T08:31:53.393105Z",
     "shell.execute_reply.started": "2025-07-23T08:31:53.146595Z"
    }
   },
   "outputs": [
    {
     "data": {
      "application/vnd.jupyter.widget-view+json": {
       "model_id": "3c8e15d1d95940ffbbc5a5d4ebe08d38",
       "version_major": 2,
       "version_minor": 0
      },
      "text/plain": [
       "VBox()"
      ]
     },
     "metadata": {},
     "output_type": "display_data"
    },
    {
     "data": {
      "application/vnd.jupyter.widget-view+json": {
       "model_id": "",
       "version_major": 2,
       "version_minor": 0
      },
      "text/plain": [
       "FloatProgress(value=0.0, bar_style='info', description='Progress:', layout=Layout(height='25px', width='50%'),…"
      ]
     },
     "metadata": {},
     "output_type": "display_data"
    }
   ],
   "source": [
    "# calculating yellos/green trip shares\n",
    "zone_summary = zone_summary \\\n",
    "        .withColumn(\"yellow_share\", (col(\"yellow_trips\") / col(\"total_trips\")) * 100) \\\n",
    "        .withColumn(\"green_share\", (col(\"green_trips\") / col(\"total_trips\")) * 100) \\\n",
    "        .drop('yellow_trips','green_trips')"
   ]
  },
  {
   "cell_type": "code",
   "execution_count": 27,
   "metadata": {
    "execution": {
     "iopub.execute_input": "2025-07-23T08:31:55.444962Z",
     "iopub.status.busy": "2025-07-23T08:31:55.444748Z",
     "iopub.status.idle": "2025-07-23T08:34:19.183842Z",
     "shell.execute_reply": "2025-07-23T08:34:19.183163Z",
     "shell.execute_reply.started": "2025-07-23T08:31:55.444936Z"
    },
    "tags": []
   },
   "outputs": [
    {
     "data": {
      "application/vnd.jupyter.widget-view+json": {
       "model_id": "d4250bedb2584004a89b1b648717915b",
       "version_major": 2,
       "version_minor": 0
      },
      "text/plain": [
       "VBox()"
      ]
     },
     "metadata": {},
     "output_type": "display_data"
    },
    {
     "data": {
      "application/vnd.jupyter.widget-view+json": {
       "model_id": "",
       "version_major": 2,
       "version_minor": 0
      },
      "text/plain": [
       "FloatProgress(value=0.0, bar_style='info', description='Progress:', layout=Layout(height='25px', width='50%'),…"
      ]
     },
     "metadata": {},
     "output_type": "display_data"
    },
    {
     "name": "stdout",
     "output_type": "stream",
     "text": [
      "+--------------------+-----------+------------------+------------------+------------------+-----------------+--------------+------------------+-----------------+\n",
      "|         pickup_zone|total_trips| avg_trip_distance|  avg_total_amount|    avg_tip_amount|max_trip_distance|min_tip_amount|      yellow_share|      green_share|\n",
      "+--------------------+-----------+------------------+------------------+------------------+-----------------+--------------+------------------+-----------------+\n",
      "|         Westerleigh|       1463| 7.084019138755982| 40.68898154477104| 3.313014354066984|            124.4|           0.0| 60.08202323991798|39.91797676008203|\n",
      "|Charleston/Totten...|       2059| 23.35708110733366| 83.29833899951431|2.3402234094220495|            103.0|           0.0| 90.77221952404079|9.227780475959204|\n",
      "|      Pelham Parkway|      85877|16.609644491540227|18.737122395984834|0.6045933136928399|        221944.04|           0.0|13.084993653714033|86.91500634628598|\n",
      "|           Rego Park|     546123| 4.888368682512914|16.349018188210557|0.8508507241042765|        185845.97|         -15.0|13.437632181761252|86.56236781823876|\n",
      "|   Kew Gardens Hills|      55574|14.315389570662541|22.917856911505364|1.1238037571526256|        168421.45|          -3.0| 38.27329326663548|61.72670673336452|\n",
      "+--------------------+-----------+------------------+------------------+------------------+-----------------+--------------+------------------+-----------------+"
     ]
    }
   ],
   "source": [
    "# show first 5 rows\n",
    "zone_summary.limit(5).show()"
   ]
  },
  {
   "cell_type": "code",
   "execution_count": 28,
   "metadata": {
    "execution": {
     "iopub.execute_input": "2025-07-23T08:35:00.316185Z",
     "iopub.status.busy": "2025-07-23T08:35:00.315947Z",
     "iopub.status.idle": "2025-07-23T08:36:19.783961Z",
     "shell.execute_reply": "2025-07-23T08:36:19.783293Z",
     "shell.execute_reply.started": "2025-07-23T08:35:00.316161Z"
    }
   },
   "outputs": [
    {
     "data": {
      "application/vnd.jupyter.widget-view+json": {
       "model_id": "dd8dd249c74a4a8e8152a0ee6b4fb4cc",
       "version_major": 2,
       "version_minor": 0
      },
      "text/plain": [
       "VBox()"
      ]
     },
     "metadata": {},
     "output_type": "display_data"
    },
    {
     "data": {
      "application/vnd.jupyter.widget-view+json": {
       "model_id": "",
       "version_major": 2,
       "version_minor": 0
      },
      "text/plain": [
       "FloatProgress(value=0.0, bar_style='info', description='Progress:', layout=Layout(height='25px', width='50%'),…"
      ]
     },
     "metadata": {},
     "output_type": "display_data"
    }
   ],
   "source": [
    "# saving df to S3 bucket\n",
    "zone_summary.write \\\n",
    "    .mode(\"overwrite\") \\\n",
    "    .parquet(f\"s3a://ssnebolsinbucket/results/zone_statistic/{date.today()}/zone_statistic.parquet.\")"
   ]
  },
  {
   "cell_type": "markdown",
   "metadata": {},
   "source": [
    "#### 4. Агрегація по днях тижня та зонах"
   ]
  },
  {
   "cell_type": "markdown",
   "metadata": {},
   "source": [
    "1. Підрахувати кількість поїздок за певний день тижня (наприклад, понеділок — Sunday, etc.).\n",
    "2. Розрахувати частку поїздок з тарифами більше $30 за кожною зоною (high_fare_share)."
   ]
  },
  {
   "cell_type": "code",
   "execution_count": 29,
   "metadata": {
    "execution": {
     "iopub.execute_input": "2025-07-23T08:37:12.529883Z",
     "iopub.status.busy": "2025-07-23T08:37:12.529629Z",
     "iopub.status.idle": "2025-07-23T08:37:12.784169Z",
     "shell.execute_reply": "2025-07-23T08:37:12.783519Z",
     "shell.execute_reply.started": "2025-07-23T08:37:12.529857Z"
    }
   },
   "outputs": [
    {
     "data": {
      "application/vnd.jupyter.widget-view+json": {
       "model_id": "253d1f67066a4f6eb1607a4b9838d500",
       "version_major": 2,
       "version_minor": 0
      },
      "text/plain": [
       "VBox()"
      ]
     },
     "metadata": {},
     "output_type": "display_data"
    },
    {
     "data": {
      "application/vnd.jupyter.widget-view+json": {
       "model_id": "",
       "version_major": 2,
       "version_minor": 0
      },
      "text/plain": [
       "FloatProgress(value=0.0, bar_style='info', description='Progress:', layout=Layout(height='25px', width='50%'),…"
      ]
     },
     "metadata": {},
     "output_type": "display_data"
    }
   ],
   "source": [
    "# making the calculations - total trips and trips with total amount higher 30$, filtering this to valid days of week\n",
    "zone_days_summary = raw_trips_df_with_allZone.groupBy(\"pickup_zone\", \"pickup_day_of_week\").agg(  \n",
    "    count(\"*\").alias(\"total_trips\"),\n",
    "    sum(when(col(\"total_amount\") > 30, 1).otherwise(0)).alias(\"high_price_trip\")\n",
    "    ).filter(col(\"pickup_day_of_week\").between(1, 7))"
   ]
  },
  {
   "cell_type": "code",
   "execution_count": 30,
   "metadata": {
    "execution": {
     "iopub.execute_input": "2025-07-23T08:37:14.919797Z",
     "iopub.status.busy": "2025-07-23T08:37:14.919579Z",
     "iopub.status.idle": "2025-07-23T08:37:15.170916Z",
     "shell.execute_reply": "2025-07-23T08:37:15.170222Z",
     "shell.execute_reply.started": "2025-07-23T08:37:14.919774Z"
    }
   },
   "outputs": [
    {
     "data": {
      "application/vnd.jupyter.widget-view+json": {
       "model_id": "f1af5a3003c640c7ab6f3124290dc4ac",
       "version_major": 2,
       "version_minor": 0
      },
      "text/plain": [
       "VBox()"
      ]
     },
     "metadata": {},
     "output_type": "display_data"
    },
    {
     "data": {
      "application/vnd.jupyter.widget-view+json": {
       "model_id": "",
       "version_major": 2,
       "version_minor": 0
      },
      "text/plain": [
       "FloatProgress(value=0.0, bar_style='info', description='Progress:', layout=Layout(height='25px', width='50%'),…"
      ]
     },
     "metadata": {},
     "output_type": "display_data"
    }
   ],
   "source": [
    "# naming the days of week\n",
    "zone_days_summary = zone_days_summary.withColumn(\n",
    "    \"pickup_day_of_week\",\n",
    "     when(col(\"pickup_day_of_week\") == 1, \"Sunday\")\n",
    "    .when(col(\"pickup_day_of_week\") == 2, \"Monday\")\n",
    "    .when(col(\"pickup_day_of_week\") == 3, \"Tuesday\")\n",
    "    .when(col(\"pickup_day_of_week\") == 4, \"Wednesday\")\n",
    "    .when(col(\"pickup_day_of_week\") == 5, \"Thursday\")\n",
    "    .when(col(\"pickup_day_of_week\") == 6, \"Friday\")\n",
    "    .when(col(\"pickup_day_of_week\") == 7, \"Saturday\")\n",
    "    .otherwise(\"NA\")\n",
    ")"
   ]
  },
  {
   "cell_type": "code",
   "execution_count": 31,
   "metadata": {
    "execution": {
     "iopub.execute_input": "2025-07-23T08:37:33.571636Z",
     "iopub.status.busy": "2025-07-23T08:37:33.571411Z",
     "iopub.status.idle": "2025-07-23T08:37:33.822791Z",
     "shell.execute_reply": "2025-07-23T08:37:33.822003Z",
     "shell.execute_reply.started": "2025-07-23T08:37:33.571612Z"
    }
   },
   "outputs": [
    {
     "data": {
      "application/vnd.jupyter.widget-view+json": {
       "model_id": "5f597495f5094158b380866f728ae378",
       "version_major": 2,
       "version_minor": 0
      },
      "text/plain": [
       "VBox()"
      ]
     },
     "metadata": {},
     "output_type": "display_data"
    },
    {
     "data": {
      "application/vnd.jupyter.widget-view+json": {
       "model_id": "",
       "version_major": 2,
       "version_minor": 0
      },
      "text/plain": [
       "FloatProgress(value=0.0, bar_style='info', description='Progress:', layout=Layout(height='25px', width='50%'),…"
      ]
     },
     "metadata": {},
     "output_type": "display_data"
    }
   ],
   "source": [
    "# caclulating high fare share\n",
    "zone_days_summary = zone_days_summary.withColumn(\"high_fare_share\", col(\"high_price_trip\") / col(\"total_trips\") * 100).drop(\"total_trips\",\"high_price_trip\")"
   ]
  },
  {
   "cell_type": "code",
   "execution_count": 32,
   "metadata": {
    "execution": {
     "iopub.execute_input": "2025-07-23T08:37:35.919060Z",
     "iopub.status.busy": "2025-07-23T08:37:35.918781Z",
     "iopub.status.idle": "2025-07-23T08:38:59.427313Z",
     "shell.execute_reply": "2025-07-23T08:38:59.426489Z",
     "shell.execute_reply.started": "2025-07-23T08:37:35.919032Z"
    }
   },
   "outputs": [
    {
     "data": {
      "application/vnd.jupyter.widget-view+json": {
       "model_id": "3ddd9ad28cd74ac9828a074a8cc8c378",
       "version_major": 2,
       "version_minor": 0
      },
      "text/plain": [
       "VBox()"
      ]
     },
     "metadata": {},
     "output_type": "display_data"
    },
    {
     "data": {
      "application/vnd.jupyter.widget-view+json": {
       "model_id": "",
       "version_major": 2,
       "version_minor": 0
      },
      "text/plain": [
       "FloatProgress(value=0.0, bar_style='info', description='Progress:', layout=Layout(height='25px', width='50%'),…"
      ]
     },
     "metadata": {},
     "output_type": "display_data"
    },
    {
     "name": "stdout",
     "output_type": "stream",
     "text": [
      "+--------------------+------------------+------------------+\n",
      "|         pickup_zone|pickup_day_of_week|   high_fare_share|\n",
      "+--------------------+------------------+------------------+\n",
      "|Washington Height...|            Friday|21.785595475715237|\n",
      "|         Old Astoria|          Saturday| 9.284985029768391|\n",
      "|           Hudson Sq|          Thursday| 8.386313712565896|\n",
      "|                SoHo|            Sunday| 5.993063364451522|\n",
      "|       South Jamaica|          Thursday| 86.00909796959947|\n",
      "|Marine Park/Mill ...|          Thursday|45.049019607843135|\n",
      "|            Longwood|         Wednesday|32.360742705570296|\n",
      "|     Carroll Gardens|          Thursday|17.234840196636178|\n",
      "|        Bedford Park|            Monday| 30.58690744920993|\n",
      "|Williamsbridge/Ol...|            Friday| 48.08080808080808|\n",
      "+--------------------+------------------+------------------+"
     ]
    }
   ],
   "source": [
    "# show top 10 rows\n",
    "zone_days_summary.limit(10).show()"
   ]
  },
  {
   "cell_type": "code",
   "execution_count": null,
   "metadata": {
    "execution": {
     "iopub.execute_input": "2025-07-23T08:39:04.208638Z",
     "iopub.status.busy": "2025-07-23T08:39:04.208416Z"
    }
   },
   "outputs": [
    {
     "data": {
      "application/vnd.jupyter.widget-view+json": {
       "model_id": "17c96d20e36341039b165c2f2eb1fc61",
       "version_major": 2,
       "version_minor": 0
      },
      "text/plain": [
       "VBox()"
      ]
     },
     "metadata": {},
     "output_type": "display_data"
    },
    {
     "data": {
      "application/vnd.jupyter.widget-view+json": {
       "model_id": "b5ad05db39f54d31ad77f95d0857e0c9",
       "version_major": 2,
       "version_minor": 0
      },
      "text/plain": [
       "FloatProgress(value=0.0, bar_style='info', description='Progress:', layout=Layout(height='25px', width='50%'),…"
      ]
     },
     "metadata": {},
     "output_type": "display_data"
    }
   ],
   "source": [
    "# saving df to S3 bucket\n",
    "zone_days_summary.write \\\n",
    "    .mode(\"overwrite\") \\\n",
    "    .parquet(f\"s3a://ssnebolsinbucket/results/zone_days_statstic/{date.today()}/zone_days_statstic.parquet.\")"
   ]
  },
  {
   "cell_type": "code",
   "execution_count": null,
   "metadata": {},
   "outputs": [],
   "source": []
  }
 ],
 "metadata": {
  "kernelspec": {
   "display_name": "PySpark",
   "language": "python",
   "name": "pysparkkernel"
  },
  "language_info": {
   "codemirror_mode": {
    "name": "python",
    "version": 3
   },
   "file_extension": ".py",
   "mimetype": "text/x-python",
   "name": "pyspark",
   "pygments_lexer": "python3"
  }
 },
 "nbformat": 4,
 "nbformat_minor": 4
}
